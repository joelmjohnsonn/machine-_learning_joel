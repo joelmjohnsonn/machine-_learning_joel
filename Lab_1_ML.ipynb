{
  "nbformat": 4,
  "nbformat_minor": 0,
  "metadata": {
    "colab": {
      "provenance": []
    },
    "kernelspec": {
      "name": "python3",
      "display_name": "Python 3"
    },
    "language_info": {
      "name": "python"
    }
  },
  "cells": [
    {
      "cell_type": "code",
      "execution_count": null,
      "metadata": {
        "colab": {
          "base_uri": "https://localhost:8080/"
        },
        "id": "CrFPBSrGJa6N",
        "outputId": "4aadb565-9726-4760-9e0c-d6b6d8344ee0"
      },
      "outputs": [
        {
          "output_type": "stream",
          "name": "stdout",
          "text": [
            "(4, 8)\n"
          ]
        }
      ],
      "source": [
        "def count_vowels_and_consonants(str):\n",
        "    vowels = \"aeiouAEIOU\"\n",
        "    consonants = \"bcdfghjklmnpqrstvwxyzBCDFGHJKLMNPQRSTVWXYZ\"\n",
        "\n",
        "    vowels_count = 0\n",
        "    consonants_count = 0\n",
        "\n",
        "    for char in str:\n",
        "        if char in vowels:\n",
        "            vowels_count += 1\n",
        "        elif char in consonants:\n",
        "            consonants_count += 1\n",
        "\n",
        "    return vowels_count, consonants_count\n",
        "\n",
        "\n",
        "print(count_vowels_and_consonants(\"JoelmJOHNson\"))\n"
      ]
    },
    {
      "cell_type": "code",
      "source": [
        " \"\"\"Write a program that accepts two marices A and B as input and returns the product as AB\"\"\"\n",
        "import numpy as np\n",
        "\n",
        "def mul(A, B):\n",
        "    if len(A[0]) != len(B):\n",
        "        return \"Cannot be multiplied.\"\n",
        "    result = [[0 for x in range(len(B[0]))] for x in range(len(A))]\n",
        "    for i in range(len(A)):\n",
        "        for j in range(len(B[0])):\n",
        "            for k in range(len(B)):\n",
        "                result[i][j] += A[i][k] * B[k][j]\n",
        "    return result\n",
        "\n",
        "A = [\n",
        "    [1, 2, 3],\n",
        "    [4, 5, 6]\n",
        "]\n",
        "B = [\n",
        "    [7, 8],\n",
        "    [9, 10],\n",
        "    [11, 12]\n",
        "]\n",
        "result = mul(A, B)\n",
        "print(result)\n"
      ],
      "metadata": {
        "id": "l0Vb1kGYTL45",
        "colab": {
          "base_uri": "https://localhost:8080/"
        },
        "outputId": "d5da0755-c3ca-4b85-9d81-c2a919847ad6"
      },
      "execution_count": null,
      "outputs": [
        {
          "output_type": "stream",
          "name": "stdout",
          "text": [
            "[[58, 64], [139, 154]]\n"
          ]
        }
      ]
    },
    {
      "cell_type": "code",
      "source": [
        "\"\"\"Write a program to find the number of common elements between\n",
        "2 lists. The lists contain integers.\"\"\"\n",
        "def comele(list1, list2):\n",
        "    s1 = set(list1)\n",
        "    s2 = set(list2)\n",
        "    commonelements = s1.intersection(s2)\n",
        "    return len(commonelements)\n",
        "\n",
        "def main():\n",
        "    list1 = list(map(int, input(\"Enter elements of the first list, separated by spaces: \").split()))\n",
        "    list2 = list(map(int, input(\"Enter elements of the second list, separated by spaces: \").split()))\n",
        "    ele = comele(list1, list2)\n",
        "    print(f\"The number of common elements are: {ele}\")\n",
        "\n",
        "if __name__ == \"__main__\":\n",
        "    main()\n"
      ],
      "metadata": {
        "id": "ej2GP5LeJAHc"
      },
      "execution_count": null,
      "outputs": []
    },
    {
      "cell_type": "markdown",
      "source": [
        "# New section"
      ],
      "metadata": {
        "id": "FNZHIQy3LGp7"
      }
    },
    {
      "cell_type": "code",
      "source": [
        "def transpose(matrix):\n",
        "    rows = len(matrix)\n",
        "    cols = len(matrix[0])\n",
        "    tr = []\n",
        "    for i in range(cols):\n",
        "        tr_row = []\n",
        "        for j in range(rows):\n",
        "            tr_row.append(matrix[j][i])\n",
        "        tr.append(tr_row)\n",
        "    return tr\n",
        "\n",
        "def main():\n",
        "    # Define the matrix directly in the code\n",
        "    matrix = [\n",
        "        [1, 2, 3],\n",
        "        [4, 5, 6]\n",
        "    ]\n",
        "\n",
        "    # Transpose the matrix\n",
        "    transposed_matrix = transpose(matrix)\n",
        "\n",
        "    # Return the transposed matrix\n",
        "    return transposed_matrix\n",
        "\n",
        "if __name__ == \"__main__\":\n",
        "    transposed_matrix = main()\n",
        "    # For demonstration, print the transposed matrix\n",
        "    for row in transposed_matrix:\n",
        "        print(' '.join(map(str, row)))\n"
      ],
      "metadata": {
        "colab": {
          "base_uri": "https://localhost:8080/"
        },
        "id": "bbPM9fvQJ_Jt",
        "outputId": "20b244ea-3647-4b74-e012-24593711bddc"
      },
      "execution_count": null,
      "outputs": [
        {
          "output_type": "stream",
          "name": "stdout",
          "text": [
            "1 4\n",
            "2 5\n",
            "3 6\n"
          ]
        }
      ]
    }
  ]
}